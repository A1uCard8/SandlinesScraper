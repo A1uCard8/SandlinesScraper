{
 "cells": [
  {
   "cell_type": "code",
   "execution_count": 2,
   "id": "86450706-df19-4dc1-aedd-62909f34776e",
   "metadata": {},
   "outputs": [
    {
     "name": "stdout",
     "output_type": "stream",
     "text": [
      "Scraped 0 posts. Data saved to 'politics_posts.json'.\n"
     ]
    }
   ],
   "source": [
    "import requests\n",
    "from bs4 import BeautifulSoup\n",
    "import json\n",
    "\n",
    "# Step 1: Define the URL for the subreddit page\n",
    "url = \"https://www.reddit.com/r/politics/\"\n",
    "\n",
    "# Step 2: Fetch the page HTML\n",
    "headers = {\"User-Agent\": \"Mozilla/5.0 (Windows NT 10.0; Win64; x64) AppleWebKit/537.36 (KHTML, like Gecko) Chrome/114.0.0.0 Safari/537.36\"}\n",
    "response = requests.get(url, headers=headers)\n",
    "\n",
    "# Check if the request was successful\n",
    "if response.status_code != 200:\n",
    "    print(f\"Failed to fetch the page: {response.status_code}\")\n",
    "    exit()\n",
    "\n",
    "# Step 3: Parse the HTML with BeautifulSoup\n",
    "soup = BeautifulSoup(response.text, \"html.parser\")\n",
    "\n",
    "# Step 4: Scrape the posts\n",
    "posts = []\n",
    "post_elements = soup.find_all(\"div\", class_=\"Post\")  # Reddit posts are in divs with class \"Post\"\n",
    "\n",
    "for post in post_elements:\n",
    "    # Extract post title\n",
    "    title_element = post.find(\"h3\")  # Titles are usually in <h3> tags\n",
    "    title = title_element.text if title_element else \"N/A\"\n",
    "\n",
    "    # Extract post link\n",
    "    link_element = post.find(\"a\", href=True)  # Links are in <a> tags\n",
    "    link = f\"https://www.reddit.com{link_element['href']}\" if link_element else \"N/A\"\n",
    "\n",
    "    # Extract post score\n",
    "    score_element = post.find(\"div\", class_=\"score\")  # Scores might have specific class\n",
    "    score = score_element.text if score_element else \"N/A\"\n",
    "\n",
    "    # Append post data\n",
    "    posts.append({\n",
    "        \"title\": title,\n",
    "        \"link\": link,\n",
    "        \"score\": score\n",
    "    })\n",
    "\n",
    "# Step 5: Save data to a JSON file\n",
    "output_file = \"politics_posts.json\"\n",
    "with open(output_file, \"w\") as json_file:\n",
    "    json.dump(posts, json_file, indent=4)\n",
    "\n",
    "print(f\"Scraped {len(posts)} posts. Data saved to '{output_file}'.\")\n"
   ]
  }
 ],
 "metadata": {
  "kernelspec": {
   "display_name": "Python 3 (ipykernel)",
   "language": "python",
   "name": "python3"
  },
  "language_info": {
   "codemirror_mode": {
    "name": "ipython",
    "version": 3
   },
   "file_extension": ".py",
   "mimetype": "text/x-python",
   "name": "python",
   "nbconvert_exporter": "python",
   "pygments_lexer": "ipython3",
   "version": "3.9.7"
  }
 },
 "nbformat": 4,
 "nbformat_minor": 5
}
